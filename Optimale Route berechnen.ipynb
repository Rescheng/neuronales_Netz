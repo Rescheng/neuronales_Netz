{
 "cells": [
  {
   "cell_type": "code",
   "execution_count": null,
   "id": "e4a3622a",
   "metadata": {},
   "outputs": [],
   "source": []
  },
  {
   "cell_type": "code",
   "execution_count": null,
   "id": "1f9f0c82",
   "metadata": {},
   "outputs": [],
   "source": []
  },
  {
   "cell_type": "code",
   "execution_count": 23,
   "id": "b49b78e8",
   "metadata": {},
   "outputs": [
    {
     "name": "stdout",
     "output_type": "stream",
     "text": [
      "Optimale Route: [(0, 2), (0, 0), (1, 0), (3, 1), (4, 5)], Entfernung: 9.359173603117451\n",
      "Optimale Route: [(0, 0), (2, 2), (3, 1), (5, 2), (6, 4), (7, 6)], Entfernung: 10.950844619618655\n",
      "Optimale Route: [(1, 0), (2, 0)], Entfernung: 1.0\n"
     ]
    }
   ],
   "source": []
  },
  {
   "cell_type": "code",
   "execution_count": 34,
   "id": "a1663c61",
   "metadata": {},
   "outputs": [
    {
     "name": "stdout",
     "output_type": "stream",
     "text": [
      "Optimale Route: [(0, 2), (1, 2), (3, 1), (4, 5)], Entfernung: 9.359173603117451\n",
      "Optimale Route: [(0, 4), (2, 2), (3, 1), (5, 2), (7, 6)], Entfernung: 14.950844619618655\n",
      "Optimale Route: [(1, 0), (2, 0)], Entfernung: 2.0\n"
     ]
    }
   ],
   "source": []
  },
  {
   "cell_type": "code",
   "execution_count": 45,
   "id": "e8235861",
   "metadata": {},
   "outputs": [
    {
     "name": "stdout",
     "output_type": "stream",
     "text": [
      "Kürzeste Route: [[0, 0], (0, 1), (2, 3), (2, 1), [0, 0]] Entfernung: 8.06449510224598\n",
      "Kürzeste Route: [[0, 0], (1, 0), (20, 0), [0, 0]] Entfernung: 40.0\n",
      "Gesamte Entfernung: 48.06449510224598\n"
     ]
    }
   ],
   "source": [
    "import math\n",
    "import itertools\n",
    "\n",
    "def calculate_distance(points):\n",
    "    distance = 0\n",
    "    for i in range(len(points)-1):\n",
    "        x1, y1 = points[i]\n",
    "        x2, y2 = points[i+1]\n",
    "        distance += math.sqrt((x2-x1)**2 + (y2-y1)**2)\n",
    "    return distance\n",
    "\n",
    "def find_shortest_route(points):\n",
    "    start_point = [0, 0]\n",
    "    points = list(points)\n",
    "    shortest_distance = float('inf')\n",
    "    shortest_route = []\n",
    "    for route in itertools.permutations(points):\n",
    "        route = [start_point] + list(route) + [start_point]  # füge Start- und Endpunkt zur Route hinzu\n",
    "        distance = calculate_distance(route)\n",
    "        if distance < shortest_distance:\n",
    "            shortest_distance = distance\n",
    "            shortest_route = route\n",
    "    return shortest_route, shortest_distance\n",
    "\n",
    "sublists = [[(0,1), (2,1), (2,3)], [(1,0), (20,0)]]\n",
    "\n",
    "total_distance = 0\n",
    "for sublist in sublists:\n",
    "    shortest_route, shortest_distance = find_shortest_route(sublist)\n",
    "    total_distance += shortest_distance\n",
    "    print(\"Kürzeste Route:\", shortest_route, \"Entfernung:\", shortest_distance)\n",
    "\n",
    "print(\"Gesamte Entfernung:\", total_distance)\n"
   ]
  },
  {
   "cell_type": "code",
   "execution_count": 46,
   "id": "df407f09",
   "metadata": {},
   "outputs": [
    {
     "name": "stdout",
     "output_type": "stream",
     "text": [
      "Kürzeste Route: [[0, 0], (0, 1), (2, 3), (2, 1), [0, 0]] Entfernung: 8.06449510224598\n",
      "Kürzeste Route: [[0, 0], (1, 0), (10, 0), [0, 0]] Entfernung: 20.0\n",
      "Gesamte Entfernung: 28.064495102245978\n"
     ]
    }
   ],
   "source": [
    "import math\n",
    "import itertools\n",
    "\n",
    "def calculate_distance(points):\n",
    "    distance = 0\n",
    "    for i in range(len(points)-1):\n",
    "        x1, y1 = points[i]\n",
    "        x2, y2 = points[i+1]\n",
    "        distance += math.sqrt((x2-x1)**2 + (y2-y1)**2)\n",
    "    return distance\n",
    "\n",
    "def find_shortest_route(points):\n",
    "    start_point = [0, 0]\n",
    "    points = list(points)\n",
    "    shortest_distance = float('inf')\n",
    "    shortest_route = []\n",
    "    for route in itertools.permutations(points):\n",
    "        route = [start_point] + list(route) + [start_point]  # füge Start- und Endpunkt zur Route hinzu\n",
    "        distance = calculate_distance(route)\n",
    "        if distance < shortest_distance:\n",
    "            shortest_distance = distance\n",
    "            shortest_route = route\n",
    "    return shortest_route, shortest_distance\n",
    "\n",
    "sublists = [[(0,1), (2,1), (2,3)], [(1,0), (10,0)]]\n",
    "\n",
    "total_distance = 0\n",
    "for sublist in sublists:\n",
    "    shortest_route, shortest_distance = find_shortest_route(sublist)\n",
    "    total_distance += shortest_distance\n",
    "    print(\"Kürzeste Route:\", shortest_route, \"Entfernung:\", shortest_distance)\n",
    "\n",
    "print(\"Gesamte Entfernung:\", total_distance)\n"
   ]
  },
  {
   "cell_type": "code",
   "execution_count": null,
   "id": "ac4e8b77",
   "metadata": {},
   "outputs": [],
   "source": []
  }
 ],
 "metadata": {
  "kernelspec": {
   "display_name": "Python 3 (ipykernel)",
   "language": "python",
   "name": "python3"
  },
  "language_info": {
   "codemirror_mode": {
    "name": "ipython",
    "version": 3
   },
   "file_extension": ".py",
   "mimetype": "text/x-python",
   "name": "python",
   "nbconvert_exporter": "python",
   "pygments_lexer": "ipython3",
   "version": "3.9.13"
  }
 },
 "nbformat": 4,
 "nbformat_minor": 5
}
